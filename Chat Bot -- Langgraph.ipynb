{
 "cells": [
  {
   "cell_type": "code",
   "execution_count": 1,
   "metadata": {},
   "outputs": [
    {
     "data": {
      "text/plain": [
       "True"
      ]
     },
     "execution_count": 1,
     "metadata": {},
     "output_type": "execute_result"
    }
   ],
   "source": [
    "import dotenv\n",
    "from typing import TypedDict\n",
    "from typing_extensions import Annotated\n",
    "from langgraph.graph import StateGraph, START, END\n",
    "from langgraph.graph import add_messages\n",
    "\n",
    "dotenv.load_dotenv()"
   ]
  },
  {
   "cell_type": "code",
   "execution_count": 2,
   "metadata": {},
   "outputs": [],
   "source": [
    "class State(TypedDict):\n",
    "    messages: Annotated[list, add_messages]\n",
    "\n",
    "graph_builder = StateGraph(State)"
   ]
  },
  {
   "cell_type": "code",
   "execution_count": 3,
   "metadata": {},
   "outputs": [],
   "source": [
    "from langchain_openai import ChatOpenAI\n",
    "\n",
    "llm = ChatOpenAI(model_name=\"gpt-3.5-turbo\")"
   ]
  },
  {
   "cell_type": "code",
   "execution_count": 4,
   "metadata": {},
   "outputs": [],
   "source": [
    "def chatbot(state: State):\n",
    "    return {\"messages\": [llm.invoke(state[\"messages\"])]}"
   ]
  },
  {
   "cell_type": "code",
   "execution_count": 5,
   "metadata": {},
   "outputs": [],
   "source": [
    "graph_builder.add_node(chatbot, \"chatbot\")\n",
    "graph_builder.add_edge(START, \"chatbot\")\n",
    "graph_builder.add_edge(\"chatbot\", END)"
   ]
  },
  {
   "cell_type": "code",
   "execution_count": 6,
   "metadata": {},
   "outputs": [],
   "source": [
    "graph = graph_builder.compile()"
   ]
  },
  {
   "cell_type": "code",
   "execution_count": 7,
   "metadata": {},
   "outputs": [
    {
     "data": {
      "image/jpeg": "[encoded data removed]",
      "text/plain": [
       "<IPython.core.display.Image object>"
      ]
     },
     "metadata": {},
     "output_type": "display_data"
    }
   ],
   "source": [
    "from IPython.display import Image, display\n",
    "\n",
    "try:\n",
    "    display(Image(graph.get_graph().draw_mermaid_png()))\n",
    "except Exception:\n",
    "    pass"
   ]
  },
  {
   "cell_type": "markdown",
   "metadata": {},
   "source": [
    "## Part 1: Chatbot without memory or search"
   ]
  },
  {
   "cell_type": "code",
   "execution_count": 11,
   "metadata": {},
   "outputs": [
    {
     "name": "stdout",
     "output_type": "stream",
     "text": [
      "User: How can I reach Florence from Copenhagen?\n",
      "Assistant: You have several options to reach Florence from Copenhagen:\n",
      "\n",
      "1. By plane: The most convenient way to reach Florence from Copenhagen is by taking a direct flight. Several airlines offer direct flights from Copenhagen Airport to Florence Airport. The flight takes approximately 2.5 hours.\n",
      "\n",
      "2. By train: You can also take a train from Copenhagen to Florence. You will first need to take a train from Copenhagen to Hamburg in Germany, and then transfer to a high-speed train to Florence. The journey takes around 14-16 hours, including transfers.\n",
      "\n",
      "3. By bus: Another option is to take a bus from Copenhagen to Florence. You can look for bus companies that offer long-distance bus services between the two cities. The journey by bus takes around 24-26 hours.\n",
      "\n",
      "4. By car: If you prefer to drive, you can rent a car and drive from Copenhagen to Florence. The drive takes around 16-18 hours, depending on traffic and road conditions. Make sure to plan your route and stops along the way.\n",
      "User: Are ICEs available in Copenhagen?\n",
      "Assistant: Yes, ICEs (Intercity Express) trains are available in Copenhagen, Denmark. These high-speed trains connect Copenhagen to other major cities in Denmark and neighboring countries such as Germany and Sweden.\n",
      "User: Can I travel to the Italian city by ICE?\n",
      "Assistant: No, ICE (Intercity-Express) trains are high-speed trains in Germany operated by Deutsche Bahn. If you want to travel to an Italian city, you would need to look for trains operated by Trenitalia or other Italian train companies.\n",
      "User: exit\n",
      "Assistant: Bye\n"
     ]
    }
   ],
   "source": [
    "while True:\n",
    "    user_input = input(\"User: \")\n",
    "    if user_input.lower() in [\"quit\", \"exit\"]:\n",
    "        print(f\"User: {user_input}\")\n",
    "        print(f\"Assistant: Bye\")\n",
    "        break\n",
    "    for event in graph.stream({\"messages\": (\"user\", user_input)}):\n",
    "        print(f\"User: {user_input}\")\n",
    "        for value in event.values():\n",
    "            print(\"Assistant:\", value[\"messages\"][-1].content)"
   ]
  },
  {
   "cell_type": "markdown",
   "metadata": {},
   "source": [
    "## Part 2: Enhanced with tools"
   ]
  },
  {
   "cell_type": "code",
   "execution_count": 12,
   "metadata": {},
   "outputs": [
    {
     "name": "stdout",
     "output_type": "stream",
     "text": [
      "Collecting tavily-python\n",
      "  Downloading tavily_python-0.3.4-py3-none-any.whl.metadata (4.9 kB)\n",
      "Requirement already satisfied: requests in c:\\pytorch-env\\lib\\site-packages (from tavily-python) (2.28.1)\n",
      "Requirement already satisfied: tiktoken>=0.5.1 in c:\\pytorch-env\\lib\\site-packages (from tavily-python) (0.7.0)\n",
      "Requirement already satisfied: httpx in c:\\pytorch-env\\lib\\site-packages (from tavily-python) (0.27.0)\n",
      "Requirement already satisfied: regex>=2022.1.18 in c:\\pytorch-env\\lib\\site-packages (from tiktoken>=0.5.1->tavily-python) (2023.8.8)\n",
      "Requirement already satisfied: charset-normalizer<3,>=2 in c:\\pytorch-env\\lib\\site-packages (from requests->tavily-python) (2.1.1)\n",
      "Requirement already satisfied: idna<4,>=2.5 in c:\\pytorch-env\\lib\\site-packages (from requests->tavily-python) (3.4)\n",
      "Requirement already satisfied: urllib3<1.27,>=1.21.1 in c:\\pytorch-env\\lib\\site-packages (from requests->tavily-python) (1.26.13)\n",
      "Requirement already satisfied: certifi>=2017.4.17 in c:\\pytorch-env\\lib\\site-packages (from requests->tavily-python) (2022.12.7)\n",
      "Requirement already satisfied: anyio in c:\\pytorch-env\\lib\\site-packages (from httpx->tavily-python) (4.0.0)\n",
      "Requirement already satisfied: httpcore==1.* in c:\\pytorch-env\\lib\\site-packages (from httpx->tavily-python) (1.0.5)\n",
      "Requirement already satisfied: sniffio in c:\\pytorch-env\\lib\\site-packages (from httpx->tavily-python) (1.3.0)\n",
      "Requirement already satisfied: h11<0.15,>=0.13 in c:\\pytorch-env\\lib\\site-packages (from httpcore==1.*->httpx->tavily-python) (0.14.0)\n",
      "Downloading tavily_python-0.3.4-py3-none-any.whl (10 kB)\n",
      "Installing collected packages: tavily-python\n",
      "Successfully installed tavily-python-0.3.4\n",
      "Note: you may need to restart the kernel to use updated packages.\n"
     ]
    },
    {
     "name": "stderr",
     "output_type": "stream",
     "text": [
      "\n",
      "[notice] A new release of pip is available: 24.1.1 -> 24.1.2\n",
      "[notice] To update, run: python.exe -m pip install --upgrade pip\n"
     ]
    },
    {
     "name": "stdout",
     "output_type": "stream",
     "text": [
      "Collecting langchain_community\n",
      "  Downloading langchain_community-0.2.7-py3-none-any.whl.metadata (2.5 kB)\n",
      "Requirement already satisfied: PyYAML>=5.3 in c:\\pytorch-env\\lib\\site-packages (from langchain_community) (6.0.1)\n",
      "Requirement already satisfied: SQLAlchemy<3,>=1.4 in c:\\pytorch-env\\lib\\site-packages (from langchain_community) (2.0.20)\n",
      "Requirement already satisfied: aiohttp<4.0.0,>=3.8.3 in c:\\pytorch-env\\lib\\site-packages (from langchain_community) (3.8.5)\n",
      "Requirement already satisfied: dataclasses-json<0.7,>=0.5.7 in c:\\pytorch-env\\lib\\site-packages (from langchain_community) (0.5.14)\n",
      "Collecting langchain<0.3.0,>=0.2.7 (from langchain_community)\n",
      "  Downloading langchain-0.2.7-py3-none-any.whl.metadata (6.9 kB)\n",
      "Collecting langchain-core<0.3.0,>=0.2.12 (from langchain_community)\n",
      "  Downloading langchain_core-0.2.18-py3-none-any.whl.metadata (6.0 kB)\n",
      "Requirement already satisfied: langsmith<0.2.0,>=0.1.0 in c:\\pytorch-env\\lib\\site-packages (from langchain_community) (0.1.85)\n",
      "Requirement already satisfied: numpy<2,>=1 in c:\\pytorch-env\\lib\\site-packages (from langchain_community) (1.25.2)\n",
      "Requirement already satisfied: requests<3,>=2 in c:\\pytorch-env\\lib\\site-packages (from langchain_community) (2.28.1)\n",
      "Requirement already satisfied: tenacity!=8.4.0,<9.0.0,>=8.1.0 in c:\\pytorch-env\\lib\\site-packages (from langchain_community) (8.2.3)\n",
      "Requirement already satisfied: attrs>=17.3.0 in c:\\pytorch-env\\lib\\site-packages (from aiohttp<4.0.0,>=3.8.3->langchain_community) (23.1.0)\n",
      "Requirement already satisfied: charset-normalizer<4.0,>=2.0 in c:\\pytorch-env\\lib\\site-packages (from aiohttp<4.0.0,>=3.8.3->langchain_community) (2.1.1)\n",
      "Requirement already satisfied: multidict<7.0,>=4.5 in c:\\pytorch-env\\lib\\site-packages (from aiohttp<4.0.0,>=3.8.3->langchain_community) (6.0.4)\n",
      "Requirement already satisfied: async-timeout<5.0,>=4.0.0a3 in c:\\pytorch-env\\lib\\site-packages (from aiohttp<4.0.0,>=3.8.3->langchain_community) (4.0.3)\n",
      "Requirement already satisfied: yarl<2.0,>=1.0 in c:\\pytorch-env\\lib\\site-packages (from aiohttp<4.0.0,>=3.8.3->langchain_community) (1.9.2)\n",
      "Requirement already satisfied: frozenlist>=1.1.1 in c:\\pytorch-env\\lib\\site-packages (from aiohttp<4.0.0,>=3.8.3->langchain_community) (1.4.0)\n",
      "Requirement already satisfied: aiosignal>=1.1.2 in c:\\pytorch-env\\lib\\site-packages (from aiohttp<4.0.0,>=3.8.3->langchain_community) (1.3.1)\n",
      "Requirement already satisfied: marshmallow<4.0.0,>=3.18.0 in c:\\pytorch-env\\lib\\site-packages (from dataclasses-json<0.7,>=0.5.7->langchain_community) (3.20.1)\n",
      "Requirement already satisfied: typing-inspect<1,>=0.4.0 in c:\\pytorch-env\\lib\\site-packages (from dataclasses-json<0.7,>=0.5.7->langchain_community) (0.9.0)\n",
      "Requirement already satisfied: langchain-text-splitters<0.3.0,>=0.2.0 in c:\\pytorch-env\\lib\\site-packages (from langchain<0.3.0,>=0.2.7->langchain_community) (0.2.2)\n",
      "Requirement already satisfied: pydantic<3,>=1 in c:\\pytorch-env\\lib\\site-packages (from langchain<0.3.0,>=0.2.7->langchain_community) (1.10.12)\n",
      "Requirement already satisfied: jsonpatch<2.0,>=1.33 in c:\\pytorch-env\\lib\\site-packages (from langchain-core<0.3.0,>=0.2.12->langchain_community) (1.33)\n",
      "Requirement already satisfied: packaging<25,>=23.2 in c:\\pytorch-env\\lib\\site-packages (from langchain-core<0.3.0,>=0.2.12->langchain_community) (24.1)\n",
      "Requirement already satisfied: orjson<4.0.0,>=3.9.14 in c:\\pytorch-env\\lib\\site-packages (from langsmith<0.2.0,>=0.1.0->langchain_community) (3.10.6)\n",
      "Requirement already satisfied: idna<4,>=2.5 in c:\\pytorch-env\\lib\\site-packages (from requests<3,>=2->langchain_community) (3.4)\n",
      "Requirement already satisfied: urllib3<1.27,>=1.21.1 in c:\\pytorch-env\\lib\\site-packages (from requests<3,>=2->langchain_community) (1.26.13)\n",
      "Requirement already satisfied: certifi>=2017.4.17 in c:\\pytorch-env\\lib\\site-packages (from requests<3,>=2->langchain_community) (2022.12.7)\n",
      "Requirement already satisfied: typing-extensions>=4.2.0 in c:\\pytorch-env\\lib\\site-packages (from SQLAlchemy<3,>=1.4->langchain_community) (4.7.1)\n",
      "Requirement already satisfied: greenlet!=0.4.17 in c:\\pytorch-env\\lib\\site-packages (from SQLAlchemy<3,>=1.4->langchain_community) (2.0.2)\n",
      "Requirement already satisfied: jsonpointer>=1.9 in c:\\pytorch-env\\lib\\site-packages (from jsonpatch<2.0,>=1.33->langchain-core<0.3.0,>=0.2.12->langchain_community) (2.4)\n",
      "Requirement already satisfied: mypy-extensions>=0.3.0 in c:\\pytorch-env\\lib\\site-packages (from typing-inspect<1,>=0.4.0->dataclasses-json<0.7,>=0.5.7->langchain_community) (1.0.0)\n",
      "Downloading langchain_community-0.2.7-py3-none-any.whl (2.2 MB)\n",
      "   ---------------------------------------- 0.0/2.2 MB ? eta -:--:--\n",
      "   - -------------------------------------- 0.1/2.2 MB 1.6 MB/s eta 0:00:02\n",
      "   ---- ----------------------------------- 0.2/2.2 MB 2.3 MB/s eta 0:00:01\n",
      "   ---------- ----------------------------- 0.6/2.2 MB 4.1 MB/s eta 0:00:01\n",
      "   ----------------- ---------------------- 1.0/2.2 MB 5.1 MB/s eta 0:00:01\n",
      "   -------------------------- ------------- 1.5/2.2 MB 6.3 MB/s eta 0:00:01\n",
      "   ------------------------------------ --- 2.1/2.2 MB 7.3 MB/s eta 0:00:01\n",
      "   ---------------------------------------- 2.2/2.2 MB 7.2 MB/s eta 0:00:00\n",
      "Downloading langchain-0.2.7-py3-none-any.whl (983 kB)\n",
      "   ---------------------------------------- 0.0/983.6 kB ? eta -:--:--\n",
      "   -------------------- ------------------ 522.2/983.6 kB 16.5 MB/s eta 0:00:01\n",
      "   --------------------------------------  983.0/983.6 kB 12.5 MB/s eta 0:00:01\n",
      "   --------------------------------------- 983.6/983.6 kB 12.5 MB/s eta 0:00:00\n",
      "Downloading langchain_core-0.2.18-py3-none-any.whl (366 kB)\n",
      "   ---------------------------------------- 0.0/366.3 kB ? eta -:--:--\n",
      "   --------------------------------------- 366.3/366.3 kB 11.5 MB/s eta 0:00:00\n",
      "Installing collected packages: langchain-core, langchain, langchain_community\n",
      "  Attempting uninstall: langchain-core\n",
      "    Found existing installation: langchain-core 0.2.11\n",
      "    Uninstalling langchain-core-0.2.11:\n",
      "      Successfully uninstalled langchain-core-0.2.11\n",
      "  Attempting uninstall: langchain\n",
      "    Found existing installation: langchain 0.2.6\n",
      "    Uninstalling langchain-0.2.6:\n",
      "      Successfully uninstalled langchain-0.2.6\n",
      "Successfully installed langchain-0.2.7 langchain-core-0.2.18 langchain_community-0.2.7\n",
      "Note: you may need to restart the kernel to use updated packages.\n"
     ]
    },
    {
     "name": "stderr",
     "output_type": "stream",
     "text": [
      "\n",
      "[notice] A new release of pip is available: 24.1.1 -> 24.1.2\n",
      "[notice] To update, run: python.exe -m pip install --upgrade pip\n"
     ]
    }
   ],
   "source": [
    "%pip install -U tavily-python\n",
    "%pip install -U langchain_community"
   ]
  },
  {
   "cell_type": "code",
   "execution_count": 2,
   "metadata": {},
   "outputs": [
    {
     "data": {
      "text/plain": [
       "[{'url': 'https://www.weatherapi.com/',\n",
       "  'content': \"{'location': {'name': 'Copenhagen', 'region': 'Hovedstaden', 'country': 'Denmark', 'lat': 55.67, 'lon': 12.58, 'tz_id': 'Europe/Copenhagen', 'localtime_epoch': 1721153353, 'localtime': '2024-07-16 20:09'}, 'current': {'last_updated_epoch': 1721152800, 'last_updated': '2024-07-16 20:00', 'temp_c': 19.0, 'temp_f': 66.2, 'is_day': 1, 'condition': {'text': 'Partly cloudy', 'icon': '//cdn.weatherapi.com/weather/64x64/day/116.png', 'code': 1003}, 'wind_mph': 5.6, 'wind_kph': 9.0, 'wind_degree': 350, 'wind_dir': 'N', 'pressure_mb': 1010.0, 'pressure_in': 29.83, 'precip_mm': 0.0, 'precip_in': 0.0, 'humidity': 78, 'cloud': 75, 'feelslike_c': 19.0, 'feelslike_f': 66.2, 'windchill_c': 16.1, 'windchill_f': 60.9, 'heatindex_c': 16.1, 'heatindex_f': 60.9, 'dewpoint_c': 15.4, 'dewpoint_f': 59.7, 'vis_km': 10.0, 'vis_miles': 6.0, 'uv': 4.0, 'gust_mph': 10.1, 'gust_kph': 16.2}}\"},\n",
       " {'url': 'https://www.weather25.com/europe/denmark/hovedstaden/copenhagen?page=month&month=July',\n",
       "  'content': 'Full weather forecast for Copenhagen in July 2024. Check the temperatures, chance of rain and more in Copenhagen during July.'}]"
      ]
     },
     "execution_count": 2,
     "metadata": {},
     "output_type": "execute_result"
    }
   ],
   "source": [
    "from langchain_community.tools.tavily_search import TavilySearchResults\n",
    "\n",
    "tool = TavilySearchResults(max_results=2)\n",
    "tools = [tool]\n",
    "tool.invoke(\"What is the weather like in Copenhagen today?\")"
   ]
  },
  {
   "cell_type": "code",
   "execution_count": 3,
   "metadata": {},
   "outputs": [],
   "source": [
    "from langchain_openai import ChatOpenAI\n",
    "from typing import Annotated\n",
    "from typing_extensions import TypedDict\n",
    "\n",
    "from langgraph.graph import StateGraph, START, END\n",
    "from langgraph.graph.message import add_messages\n",
    "\n",
    "class State(TypedDict):\n",
    "    messages: Annotated[list, add_messages]\n",
    "\n",
    "graph_builder = StateGraph(State)\n",
    "\n",
    "llm = ChatOpenAI(model_name=\"gpt-3.5-turbo\")\n",
    "llm_with_tools = llm.bind_tools(tools)\n",
    "\n",
    "def chatbot(state: State):\n",
    "    return {\"messages\": [llm_with_tools.invoke(state[\"messages\"])]}\n",
    "\n",
    "graph_builder.add_node(\"chatbot\", chatbot)"
   ]
  },
  {
   "cell_type": "code",
   "execution_count": 4,
   "metadata": {},
   "outputs": [],
   "source": [
    "# create a basic tool node\n",
    "\n",
    "import json\n",
    "\n",
    "from langchain_core.messages import ToolMessage\n",
    "\n",
    "class BasicToolNode:\n",
    "    \"\"\"A node that runs the tools requested in the last AIMessage.\"\"\"\n",
    "\n",
    "    def __init__(self, tools: list) -> None:\n",
    "        self.tools_by_name = {tool.name: tool for tool in tools}\n",
    "\n",
    "    def __call__(self, inputs: dict):\n",
    "        if messages := inputs.get(\"messages\", []):\n",
    "            message = messages[-1]\n",
    "        else:\n",
    "            raise ValueError(\"No message found in input\")\n",
    "        \n",
    "        outputs = []\n",
    "        for tool_call in message.tool_calls:\n",
    "            # print(f\"[Debug] Received tools call in message {message}\")\n",
    "            tool_result = self.tools_by_name[tool_call[\"name\"]].invoke(\n",
    "                tool_call[\"args\"]\n",
    "            )\n",
    "            outputs.append(\n",
    "                ToolMessage(\n",
    "                    content=json.dumps(tool_result),\n",
    "                    name=tool_call[\"name\"],\n",
    "                    tool_call_id=tool_call[\"id\"],\n",
    "                )\n",
    "            )\n",
    "\n",
    "        return {\"messages\": outputs}"
   ]
  },
  {
   "cell_type": "code",
   "execution_count": 5,
   "metadata": {},
   "outputs": [],
   "source": [
    "tool_node = BasicToolNode(tools=[tool])\n",
    "\n",
    "graph_builder.add_node(\"tools\", tool_node)"
   ]
  },
  {
   "cell_type": "code",
   "execution_count": 6,
   "metadata": {},
   "outputs": [],
   "source": [
    "from typing import Literal\n",
    "\n",
    "def route_tools(\n",
    "        state: State\n",
    ") -> Literal[\"tools\", \"__end__\"]:\n",
    "    \"\"\" \n",
    "    Route to the ToolNode if the last message has tools call. Otherwise, route to the end.\n",
    "    \"\"\"\n",
    "    if isinstance(state, list):\n",
    "        ai_message = state[-1]\n",
    "    elif messages := state.get(\"messages\", []):\n",
    "        ai_message = messages[-1]\n",
    "    else:\n",
    "        raise ValueError(f\"No messages found in input state to tool_edge: {state}\")\n",
    "    \n",
    "    if hasattr(ai_message, \"tool_calls\") and len(ai_message.tool_calls) > 0:\n",
    "        print(f\"[Debug] AI Message with tools call: {ai_message}\")\n",
    "        return \"tools\"\n",
    "    \n",
    "    print(f\"[Debug] AI Message without tools call: {ai_message}\")\n",
    "    return \"__end__\""
   ]
  },
  {
   "cell_type": "code",
   "execution_count": 7,
   "metadata": {},
   "outputs": [],
   "source": [
    "graph_builder.add_conditional_edges(\"chatbot\", route_tools, {\"tools\": \"tools\", \"__end__\": \"__end__\"})\n",
    "graph_builder.add_edge(\"tools\", \"chatbot\")\n",
    "graph_builder.add_edge(START, \"chatbot\")\n",
    "graph = graph_builder.compile()"
   ]
  },
  {
   "cell_type": "code",
   "execution_count": 8,
   "metadata": {},
   "outputs": [
    {
     "data": {
      "image/jpeg": "[encoded data removed]",
      "text/plain": [
       "<IPython.core.display.Image object>"
      ]
     },
     "metadata": {},
     "output_type": "display_data"
    }
   ],
   "source": [
    "from IPython.display import Image, display\n",
    "\n",
    "try:\n",
    "    display(Image(graph.get_graph().draw_mermaid_png()))\n",
    "except Exception as e:\n",
    "    print(f\"Encountered exception {e}\")"
   ]
  },
  {
   "cell_type": "code",
   "execution_count": 9,
   "metadata": {},
   "outputs": [
    {
     "name": "stdout",
     "output_type": "stream",
     "text": [
      "[Debug] AI Message with tools call: content='' additional_kwargs={'tool_calls': [{'id': 'call_6MT5NvYhpRvHaTJ7cMill6Pj', 'function': {'arguments': '{\"query\":\"weather in Copenhagen\"}', 'name': 'tavily_search_results_json'}, 'type': 'function'}]} response_metadata={'token_usage': {'completion_tokens': 20, 'prompt_tokens': 89, 'total_tokens': 109}, 'model_name': 'gpt-3.5-turbo-0125', 'system_fingerprint': None, 'finish_reason': 'tool_calls', 'logprobs': None} id='run-a8fcf07a-4171-4b56-b4e3-086d95bb636c-0' tool_calls=[{'name': 'tavily_search_results_json', 'args': {'query': 'weather in Copenhagen'}, 'id': 'call_6MT5NvYhpRvHaTJ7cMill6Pj', 'type': 'tool_call'}] usage_metadata={'input_tokens': 89, 'output_tokens': 20, 'total_tokens': 109}\n",
      "User: What is the weather like in Copenhagen?\n",
      "Assistant: \n",
      "User: What is the weather like in Copenhagen?\n",
      "Assistant: [{\"url\": \"https://www.weatherapi.com/\", \"content\": \"{'location': {'name': 'Copenhagen', 'region': 'Hovedstaden', 'country': 'Denmark', 'lat': 55.67, 'lon': 12.58, 'tz_id': 'Europe/Copenhagen', 'localtime_epoch': 1721153353, 'localtime': '2024-07-16 20:09'}, 'current': {'last_updated_epoch': 1721152800, 'last_updated': '2024-07-16 20:00', 'temp_c': 19.0, 'temp_f': 66.2, 'is_day': 1, 'condition': {'text': 'Partly cloudy', 'icon': '//cdn.weatherapi.com/weather/64x64/day/116.png', 'code': 1003}, 'wind_mph': 5.6, 'wind_kph': 9.0, 'wind_degree': 350, 'wind_dir': 'N', 'pressure_mb': 1010.0, 'pressure_in': 29.83, 'precip_mm': 0.0, 'precip_in': 0.0, 'humidity': 78, 'cloud': 75, 'feelslike_c': 19.0, 'feelslike_f': 66.2, 'windchill_c': 16.1, 'windchill_f': 60.9, 'heatindex_c': 16.1, 'heatindex_f': 60.9, 'dewpoint_c': 15.4, 'dewpoint_f': 59.7, 'vis_km': 10.0, 'vis_miles': 6.0, 'uv': 4.0, 'gust_mph': 10.1, 'gust_kph': 16.2}}\"}, {\"url\": \"https://world-weather.info/forecast/denmark/copenhagen/july-2024/\", \"content\": \"Detailed \\u26a1 Copenhagen Weather Forecast for July 2024 - day/night \\ud83c\\udf21\\ufe0f temperatures, precipitations - World-Weather.info. Add the current city. Search. Weather; Archive; Widgets \\u00b0F. World; Denmark; Weather in Copenhagen; Weather in Copenhagen in July 2024. ... 16 +66\\u00b0 +59\\u00b0 17 +66\\u00b0 +61\\u00b0 18 ...\"}]\n",
      "[Debug] AI Message without tools call: content='The current weather in Copenhagen is partly cloudy with a temperature of 19.0°C (66.2°F). The wind is blowing at 5.6 mph from the north, and the humidity is at 78%.' response_metadata={'token_usage': {'completion_tokens': 46, 'prompt_tokens': 664, 'total_tokens': 710}, 'model_name': 'gpt-3.5-turbo-0125', 'system_fingerprint': None, 'finish_reason': 'stop', 'logprobs': None} id='run-08413071-0c3e-4429-be92-ea0dff27f395-0' usage_metadata={'input_tokens': 664, 'output_tokens': 46, 'total_tokens': 710}\n",
      "User: What is the weather like in Copenhagen?\n",
      "Assistant: The current weather in Copenhagen is partly cloudy with a temperature of 19.0°C (66.2°F). The wind is blowing at 5.6 mph from the north, and the humidity is at 78%.\n",
      "[Debug] AI Message with tools call: content='' additional_kwargs={'tool_calls': [{'id': 'call_vmmDycs8yhNOMaTxXfpEKAMu', 'function': {'arguments': '{\"query\":\"weather in Florence\"}', 'name': 'tavily_search_results_json'}, 'type': 'function'}]} response_metadata={'token_usage': {'completion_tokens': 20, 'prompt_tokens': 89, 'total_tokens': 109}, 'model_name': 'gpt-3.5-turbo-0125', 'system_fingerprint': None, 'finish_reason': 'tool_calls', 'logprobs': None} id='run-83562918-d86e-4fef-8ca1-c9a02580a1c2-0' tool_calls=[{'name': 'tavily_search_results_json', 'args': {'query': 'weather in Florence'}, 'id': 'call_vmmDycs8yhNOMaTxXfpEKAMu', 'type': 'tool_call'}] usage_metadata={'input_tokens': 89, 'output_tokens': 20, 'total_tokens': 109}\n",
      "User: What is the weather like in Florence?\n",
      "Assistant: \n",
      "User: What is the weather like in Florence?\n",
      "Assistant: [{\"url\": \"https://www.weatherapi.com/\", \"content\": \"{'location': {'name': 'Florence', 'region': 'Toscana', 'country': 'Italy', 'lat': 43.77, 'lon': 11.25, 'tz_id': 'Europe/Rome', 'localtime_epoch': 1721153434, 'localtime': '2024-07-16 20:10'}, 'current': {'last_updated_epoch': 1721152800, 'last_updated': '2024-07-16 20:00', 'temp_c': 32.2, 'temp_f': 90.0, 'is_day': 1, 'condition': {'text': 'Sunny', 'icon': '//cdn.weatherapi.com/weather/64x64/day/113.png', 'code': 1000}, 'wind_mph': 8.1, 'wind_kph': 13.0, 'wind_degree': 240, 'wind_dir': 'WSW', 'pressure_mb': 1012.0, 'pressure_in': 29.88, 'precip_mm': 0.0, 'precip_in': 0.0, 'humidity': 32, 'cloud': 0, 'feelslike_c': 34.5, 'feelslike_f': 94.1, 'windchill_c': 26.3, 'windchill_f': 79.3, 'heatindex_c': 26.7, 'heatindex_f': 80.0, 'dewpoint_c': 13.9, 'dewpoint_f': 57.0, 'vis_km': 10.0, 'vis_miles': 6.0, 'uv': 7.0, 'gust_mph': 8.1, 'gust_kph': 13.1}}\"}, {\"url\": \"https://www.accuweather.com/en/it/florence/216189/july-weather/216189\", \"content\": \"World Europe Italy Tuscany Florence. Get the monthly weather forecast for Florence, Tuscany, Italy, including daily high/low, historical averages, to help you plan ahead.\"}]\n",
      "[Debug] AI Message without tools call: content='The current weather in Florence, Italy is sunny with a temperature of 32.2°C (90.0°F). The wind speed is 13.0 kph coming from WSW. The humidity is at 32%, and the visibility is 10.0 km. It feels like 34.5°C (94.1°F). If you need more detailed information or a forecast, you can visit [AccuWeather](https://www.accuweather.com/en/it/florence/216189/july-weather/216189) for the monthly weather forecast for Florence, Tuscany, Italy.' response_metadata={'token_usage': {'completion_tokens': 127, 'prompt_tokens': 595, 'total_tokens': 722}, 'model_name': 'gpt-3.5-turbo-0125', 'system_fingerprint': None, 'finish_reason': 'stop', 'logprobs': None} id='run-f2069afc-4b1e-484d-a95b-1f3482969cdd-0' usage_metadata={'input_tokens': 595, 'output_tokens': 127, 'total_tokens': 722}\n",
      "User: What is the weather like in Florence?\n",
      "Assistant: The current weather in Florence, Italy is sunny with a temperature of 32.2°C (90.0°F). The wind speed is 13.0 kph coming from WSW. The humidity is at 32%, and the visibility is 10.0 km. It feels like 34.5°C (94.1°F). If you need more detailed information or a forecast, you can visit [AccuWeather](https://www.accuweather.com/en/it/florence/216189/july-weather/216189) for the monthly weather forecast for Florence, Tuscany, Italy.\n",
      "[Debug] AI Message with tools call: content='' additional_kwargs={'tool_calls': [{'id': 'call_0Lcs0mZIiwc5whQTdZamSDsb', 'function': {'arguments': '{\"query\":\"best way to travel from Copenhagen to Florence tomorrow\"}', 'name': 'tavily_search_results_json'}, 'type': 'function'}]} response_metadata={'token_usage': {'completion_tokens': 26, 'prompt_tokens': 95, 'total_tokens': 121}, 'model_name': 'gpt-3.5-turbo-0125', 'system_fingerprint': None, 'finish_reason': 'tool_calls', 'logprobs': None} id='run-59fd9d0b-4ef3-4ddc-9685-e06f6d2d9936-0' tool_calls=[{'name': 'tavily_search_results_json', 'args': {'query': 'best way to travel from Copenhagen to Florence tomorrow'}, 'id': 'call_0Lcs0mZIiwc5whQTdZamSDsb', 'type': 'tool_call'}] usage_metadata={'input_tokens': 95, 'output_tokens': 26, 'total_tokens': 121}\n",
      "User: What would be the best way to travel to Florence from Copenhagen tomorrow?\n",
      "Assistant: \n",
      "User: What would be the best way to travel to Florence from Copenhagen tomorrow?\n",
      "Assistant: [{\"url\": \"https://www.rome2rio.com/s/Copenhagen/Florence-Italy\", \"content\": \"The best way to get from Copenhagen to Florence is to fly which takes 4h 58m and costs $85 - $340. Alternatively, you can train, which costs $330 - $550 and takes 20h 17m, you could also bus, which costs $130 - $200 and takes 25h 35m. ... Top travel and planning tips on the best ways to get around Scandinavia. Read the travel guide Heading to ...\"}, {\"url\": \"https://www.kayak.com/flight-routes/Kastrup-Copenhagen-CPH/Florence-Peretola-FLR\", \"content\": \"The best one-way deal found from Scandinavian Airlines for the route is $140. ... Find out the best times to travel from Copenhagen to Florence based on our flight data from the last year. Discover the cheapest month and even day to fly. Estimated round-trip price.\"}]\n",
      "[Debug] AI Message without tools call: content='The best way to travel from Copenhagen to Florence tomorrow is by flying, which takes approximately 4 hours and 58 minutes and costs between $85 to $340. Alternatively, you can take a train, which costs between $330 to $550 and takes around 20 hours and 17 minutes. Another option is to take a bus, which costs between $130 to $200 and takes approximately 25 hours and 35 minutes.\\n\\nYou can find more details and book your travel through the following links:\\n1. [Rome2rio - Copenhagen to Florence](https://www.rome2rio.com/s/Copenhagen/Florence-Italy)\\n2. [Kayak - Flight Routes from Copenhagen to Florence](https://www.kayak.com/flight-routes/Kastrup-Copenhagen-CPH/Florence-Peretola-FLR)' response_metadata={'token_usage': {'completion_tokens': 174, 'prompt_tokens': 347, 'total_tokens': 521}, 'model_name': 'gpt-3.5-turbo-0125', 'system_fingerprint': None, 'finish_reason': 'stop', 'logprobs': None} id='run-fd23423b-88f0-4bce-bf99-f5ac277c1586-0' usage_metadata={'input_tokens': 347, 'output_tokens': 174, 'total_tokens': 521}\n",
      "User: What would be the best way to travel to Florence from Copenhagen tomorrow?\n",
      "Assistant: The best way to travel from Copenhagen to Florence tomorrow is by flying, which takes approximately 4 hours and 58 minutes and costs between $85 to $340. Alternatively, you can take a train, which costs between $330 to $550 and takes around 20 hours and 17 minutes. Another option is to take a bus, which costs between $130 to $200 and takes approximately 25 hours and 35 minutes.\n",
      "\n",
      "You can find more details and book your travel through the following links:\n",
      "1. [Rome2rio - Copenhagen to Florence](https://www.rome2rio.com/s/Copenhagen/Florence-Italy)\n",
      "2. [Kayak - Flight Routes from Copenhagen to Florence](https://www.kayak.com/flight-routes/Kastrup-Copenhagen-CPH/Florence-Peretola-FLR)\n",
      "User: exit\n",
      "Assistant: Bye\n"
     ]
    }
   ],
   "source": [
    "from langchain_core.messages import BaseMessage\n",
    "\n",
    "while True:\n",
    "    user_input = input(\"User: \")\n",
    "    if user_input.lower() in [\"quit\", \"exit\"]:\n",
    "        print(f\"User: {user_input}\")\n",
    "        print(f\"Assistant: Bye\")\n",
    "        break\n",
    "    for event in graph.stream({\"messages\": (\"user\", user_input)}):\n",
    "        print(f\"User: {user_input}\")\n",
    "        for value in event.values():\n",
    "            if isinstance(value[\"messages\"][-1], BaseMessage):\n",
    "                print(\"Assistant:\", value[\"messages\"][-1].content)"
   ]
  },
  {
   "cell_type": "code",
   "execution_count": null,
   "metadata": {},
   "outputs": [],
   "source": []
  }
 ],
 "metadata": {
  "kernelspec": {
   "display_name": "Python 3 (ipykernel)",
   "language": "python",
   "name": "python3"
  },
  "language_info": {
   "codemirror_mode": {
    "name": "ipython",
    "version": 3
   },
   "file_extension": ".py",
   "mimetype": "text/x-python",
   "name": "python",
   "nbconvert_exporter": "python",
   "pygments_lexer": "ipython3",
   "version": "3.11.4"
  }
 },
 "nbformat": 4,
 "nbformat_minor": 2
}
